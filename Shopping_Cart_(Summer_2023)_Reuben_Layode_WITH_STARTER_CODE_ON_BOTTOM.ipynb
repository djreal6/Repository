{
  "nbformat": 4,
  "nbformat_minor": 0,
  "metadata": {
    "colab": {
      "provenance": [],
      "collapsed_sections": [
        "A-yI-FT4-Nwb"
      ],
      "toc_visible": true,
      "include_colab_link": true
    },
    "kernelspec": {
      "name": "python3",
      "display_name": "Python 3"
    },
    "language_info": {
      "name": "python"
    }
  },
  "cells": [
    {
      "cell_type": "markdown",
      "metadata": {
        "id": "view-in-github",
        "colab_type": "text"
      },
      "source": [
        "<a href=\"https://colab.research.google.com/github/djreal6/Repository/blob/main/Shopping_Cart_(Summer_2023)_Reuben_Layode_WITH_STARTER_CODE_ON_BOTTOM.ipynb\" target=\"_parent\"><img src=\"https://colab.research.google.com/assets/colab-badge.svg\" alt=\"Open In Colab\"/></a>"
      ]
    },
    {
      "cell_type": "markdown",
      "source": [
        "Develop a Python application to facilitate a real life grocery store's customer checkout process."
      ],
      "metadata": {
        "id": "4Srdlse6bI5q"
      }
    },
    {
      "cell_type": "markdown",
      "source": [
        "## Instructions\n"
      ],
      "metadata": {
        "id": "51K5AbeHSORR"
      }
    },
    {
      "cell_type": "markdown",
      "source": [
        "\n",
        "\n",
        "\n",
        "\n",
        "\n",
        "\n",
        "1. **Make a copy of this notebook** so you can edit and save your own version of it. Do the work in your copy of the notebook.\n",
        "2. **Update the title of your notebook** to include your name and/or net id.\n",
        "\n",
        "3. **Write Python code in your notebook** in the \"Solution\" section (and in the \"Setup\" section as well if tackling bonus challenges) to meet the requirements set forth in the \"Requirements\" section.\n",
        "\n",
        "\n"
      ],
      "metadata": {
        "id": "i_II8VyWSpyL"
      }
    },
    {
      "cell_type": "markdown",
      "source": [
        "## Collaboration"
      ],
      "metadata": {
        "id": "Eo4jTk_9ZtH3"
      }
    },
    {
      "cell_type": "markdown",
      "source": [
        "Feel free to discuss this exercise with classmates, and even to help each other out in reasonable ways.\n",
        "\n",
        "If you obtain code or \"inspiration\" for code from an outside source, let's endeavor to **A) provide a citation or attribution comment** like the following:\n",
        "\n",
        "  + \"Student XYZ (xyz@school.edu) helped with this section\"\n",
        "  + \"Inspired by code from Robot XYZ\"\n",
        "  + \"Adapted from code found at URL: _________\"\n",
        "\n",
        "Citations like this will go a long way to foster a culture of transparency and help avoid academic integrity concerns.\n",
        "\n",
        "For any code obtained this way, also **provide code comments discussing B) your own interpretation of the code, and C) your lessons learned**.\n",
        "\n",
        "If you have any questions, please ask. Thank you!"
      ],
      "metadata": {
        "id": "o2N_neLYzVgo"
      }
    },
    {
      "cell_type": "markdown",
      "source": [
        "## Business Prompt"
      ],
      "metadata": {
        "id": "HCMLilbO4rtr"
      }
    },
    {
      "cell_type": "markdown",
      "source": [
        "\n",
        "Your local corner grocery store has hired you as a technology consultant to help modernize their checkout system.\n",
        "\n",
        "**Current State (As Is) Process**\n",
        "\n",
        "Currently, when managing inventory, store employees affix a price tag sticker on each grocery item in stock. And when a customer visits the checkout counter with their selected items, a checkout clerk uses a calculator to add product prices, calculate tax, and calculate the total amount due. But this process takes more time than necessary, and is prone to manual error.\n",
        "\n",
        "**Future State (To Be) Process**\n",
        "\n",
        "Instead, the store owner describes a desired checkout process which involves the checkout clerk scanning each product's barcode to automatically lookup prices, perform tax and total calculations, and print a customer receipt. To facilitate this process, the store owner has authorized the purchase of a few inexpensive [barcode scanners](https://www.amazon.com/UNIDEEPLY-Barcode-Scanner-Handheld-Scanning/dp/B07GYLKX4J/ref=sr_1_1_sspa), as well as checkout computers capable of running Python applications.\n",
        "\n",
        "The store owner says it would be \"acceptable but not preferable\" to manage the inventory of products via the application's source code, that it would be \"better\" to manage the inventory of products via a local CSV file stored on the checkout computer (i.e. updloaded or downloaded into the notebook's filesystem), and that it would be \"ideal\" to be able to manage the inventory of products via a centralized Google Sheet [spreadsheet document](https://docs.google.com/spreadsheets/d/1ItN7Cc2Yn4K90cMIsxi2P045Gzw0y2JHB_EkV4mXXpI/edit?usp=sharing).\n",
        "\n",
        "The store owner also says it would be \"nice to have\" a feature which prompts the checkout clerk or the customer to input the customer's email address in order to send them a receipt via email. And that it would be \"ideal\" to also save the customer's email addresses somewhere (if the customer consents to opt-in to the customer loyalty program)."
      ],
      "metadata": {
        "id": "dqaJ_O5H4wRC"
      }
    },
    {
      "cell_type": "markdown",
      "source": [
        "## Requirements\n",
        "\n"
      ],
      "metadata": {
        "id": "tnj6eer-RnND"
      }
    },
    {
      "cell_type": "markdown",
      "source": [
        "### Basic Requirements"
      ],
      "metadata": {
        "id": "9GpF6Z2OrmkR"
      }
    },
    {
      "cell_type": "markdown",
      "source": [
        "\n",
        "Write a Python program that asks the user to input one or more product identifiers, then looks up the prices for each, then prints an itemized customer receipt including the total amount owed.\n",
        "\n",
        "The program should use one of the provided datastores (see \"Setup\" section) to represent the store owner's inventory of products and prices.\n",
        "\n",
        "The program should prompt the checkout clerk to input (or scan) the identifier of each shopping cart item, one at a time. It should also let the user know how to stop the process, by inputting the word \"DONE\" instead.\n",
        "\n",
        "When the clerk inputs a product identifier, the program should validate it, displaying a helpful message like \"Hey, are you sure that product identifier is correct? Please try again!\" if there are no products matching the given identifier.\n",
        "\n",
        "At any time the clerk should be able to indicate there are no more shopping cart items by inputting the word \"DONE\" or otherwise indicating they are done with the process. Before asking for identifiers, the program should provide clear instructions to the user about how to use the \"DONE\" keyword.\n",
        "\n",
        "After the clerk indicates there are no more items, the program should print a custom receipt on the screen. The receipt should include the following components:\n",
        "\n",
        "  + A grocery store name of your choice\n",
        "  + A grocery store phone number and/or website URL and/or address of choice\n",
        "  + The date and time of the beginning of the checkout process, formatted in a human-friendly way (e.g. `2020-02-07 03:54 PM`)\n",
        "  + The name and price of each shopping cart item, price being formatted as US dollars and cents (e.g. `$3.50`, etc.)\n",
        "  + The total cost of all shopping cart items (i.e. the \"subtotal\"), formatted as US dollars and cents (e.g. `$19.47`), calculated as the sum of their prices\n",
        "  + The amount of tax owed (e.g. `$1.70`), calculated by multiplying the total cost by a New York City sales tax rate of 8.75% (for the purposes of this project, groceries are not exempt from sales tax)\n",
        "  + The total amount owed, formatted as US dollars and cents (e.g. `$21.17`), calculated by adding together the amount of tax owed plus the total cost of all shopping cart items\n",
        "  + A friendly message thanking the customer and/or encouraging the customer to shop again\n",
        "\n",
        "The program should be able to process multiple shopping cart items of the same kind, but need not display any groupings or aggregations of those items (although it may optionally do so).\n",
        "\n"
      ],
      "metadata": {
        "id": "aLxBOtV_Cimv"
      }
    },
    {
      "cell_type": "markdown",
      "source": [
        "### Further Exploration\n",
        "\n",
        "\n"
      ],
      "metadata": {
        "id": "sToAMIV9EnJZ"
      }
    },
    {
      "cell_type": "markdown",
      "source": [
        "\n",
        "This section provides **OPTIONAL** project challenges for students seeking a greater level of difficulty.\n",
        "\n",
        "> GUIDANCE: only attempt these challenges if you have completely and accurately addressed the basic requirements in their entirety.\n",
        "\n",
        "\n",
        "**Alternative Inventory Options**\n",
        "\n",
        "Instead of using the hard-coded data provided in Inventory Option A, use the CSV file referenced in Inventory Option B, or ideally use the Google Sheet referenced in Inventory Option C.\n",
        "\n",
        "See the corresponding \"Setup\" cell(s) for more links and hints about implementing each inventory option.\n",
        "\n",
        "> NOTE: choose ONE inventory option only (hard coded, or CSV file, or Google Sheet). Which ever solution you choose, you should end up with either a `products` variable that is a list of dictionaries, or a `products_df` variable that is a pandas DataFrame, and your solution may differ depending on which you choose.\n",
        "\n",
        "**Writing Receipts to File**\n",
        "\n",
        "In addition to displaying a receipt at the end of the checkout process, the program should write the receipt information into a new \".txt\" file saved to the notebook's filesystem. After downloading the file, the clerk's printer-connected computer should be able to actually print a paper receipt from the information contained in this file.\n",
        "\n",
        "Each text file should be named according to the date and time the checkout process started (e.g. \"receipt-2019-07-04-15-43-13-579531.txt\", where the numbers represent the year, month, day, 24-hour-style hour, minute, second, and milliseconds/microseconds, respectively).\n",
        "\n",
        "> HINT: consult the notes on [file management](https://github.com/prof-rossetti/intro-to-python/blob/main/notes/python/file-management.md) for examples of how to write to file in Python\n",
        "\n",
        "**Sending Receipts via Email**\n",
        "\n",
        "\n",
        "In addition to displaying a receipt at the end of the checkout process, the program should prompt the checkout clerk or the customer to indicate whether the customer would like to receive the receipt by email. And if so, it should prompt the checkout clerk or the customer to input the customer's email address, and then it should send the receipt information to the customer by email. The clerk's network-connected computer should be able to send these emails.\n",
        "\n",
        "At the very least, the email should display the checkout timestamp and the total price. But ideally it should contain all the receipt information described in the basic requirements.\n",
        "\n",
        "> HINT: leverage the email-sending capabilities of [the `sendgrid` package](https://github.com/prof-rossetti/intro-to-python/blob/main/notes/python/packages/sendgrid.md).\n",
        "\n",
        "> NOTE: your notebook must contain text cell instructions for how someone can signup for the service and obtain their own credentials (i.e. API Key). Prefer not to use a template for this assignment, otherwise you must include instructions for how someone could re-create that template (including sample HTML and sample data).\n",
        "\n",
        "\n",
        "> NOTE: we should take all precautions to hide our secret credentials and prevent their exposure - for example by asking for a secure input via the `getpass` method (see corresponding \"Setup\" cell), and by never printing the secret values.\n",
        "\n",
        "\n",
        "**Displaying Product Images**\n",
        "\n",
        "Optionally display the product images in the printed and/or emailed receipt.\n",
        "\n",
        "Use the same height for each image so they look  somewhat uniform.\n",
        "\n",
        "> HINT: see corresponding \"Setup\" cell for some image display examples."
      ],
      "metadata": {
        "id": "WUNpEywROMRY"
      }
    },
    {
      "cell_type": "markdown",
      "source": [
        "### Example Output\n"
      ],
      "metadata": {
        "id": "w109Lk3SCmNw"
      }
    },
    {
      "cell_type": "markdown",
      "source": [
        "\n",
        "\n",
        "``` sh\n",
        "Please input a product identifier: 1\n",
        "Please input a product identifier: 2\n",
        "Please input a product identifier: 3\n",
        "Please input a product identifier: 2\n",
        "Please input a product identifier: 1\n",
        "Please input a product identifier: DONE\n",
        "\n",
        "#> ---------------------------------\n",
        "#> GREEN FOODS GROCERY\n",
        "#> WWW.GREEN-FOODS-GROCERY.COM\n",
        "#> ---------------------------------\n",
        "#> CHECKOUT AT: 2020-02-07 03:54 PM\n",
        "#> ---------------------------------\n",
        "#> SELECTED PRODUCTS:\n",
        "#>  ... Chocolate Sandwich Cookies ($3.50)\n",
        "#>  ... All-Seasons Salt ($4.99)\n",
        "#>  ... Robust Golden Unsweetened Oolong Tea ($2.49)\n",
        "#>  ... All-Seasons Salt ($4.99)\n",
        "#>  ... Chocolate Sandwich Cookies ($3.50)\n",
        "#> ---------------------------------\n",
        "#> SUBTOTAL: $19.47\n",
        "#> TAX: $1.70\n",
        "#> TOTAL: $21.17\n",
        "#> ---------------------------------\n",
        "#> THANKS, SEE YOU AGAIN SOON!\n",
        "#> ---------------------------------\n",
        "\n",
        "```"
      ],
      "metadata": {
        "id": "o9XEJ2RTClB8"
      }
    },
    {
      "cell_type": "markdown",
      "source": [
        "## Evaluation\n"
      ],
      "metadata": {
        "id": "GWj6HNQQSzZA"
      }
    },
    {
      "cell_type": "markdown",
      "source": [
        "Project submissions will be evaluated according to the requirements set forth above, as summarized by the rubric below:\n",
        "\n",
        "\n",
        "\n",
        "Category | Requirement | Weight\n",
        "--- | --- | ---\n",
        "Instructions | Provides setup instructions, as necessary <br> (only if project requires additional setup, such as obtaining Sendgrid API keys, must include those instructions in a text cell. <br> Otherwise full credit. | 10%\n",
        "Security | Protects secret credentials as necessary <br> (only if using secret credentials to send emails, must ask for them via secure inputs using `getpass` approach). <br> Otherwise full points / no deduction if not using secret credentials. | 10%\n",
        "Info Inputs | Captures / scans product identifiers. | 10%\n",
        "Info Inputs | Handles invalid inputs <br> (like \"OOPS\" and/or out of range identifiers), fails gracefully on invalid product lookups. <br> Does not try to process invalid inputs. Avoids a red / crashed cell. | 15%\n",
        "Info Inputs | Instructs the user about, and handles, the \"DONE\" signal. | 10%\n",
        "Info Outputs (Receipt) | Displays store info. | 10%\n",
        "Info Outputs (Receipt) | Displays checkout date and time, in a human-friendly format. | 10%\n",
        "Info Outputs (Receipt) | Displays names and prices of all scanned products, with prices formatted as USD. | 10%\n",
        "Info Outputs (Receipt) | Displays tax and totals, formatted as USD. | 15%\n",
        "\n",
        "This rubric is tentative, and may be subject to slight adjustments during the grading process.\n",
        "\n",
        "If experiencing execution error(s) while evaluating the application's required functionality, evaluators are advised to reduce the project's grade by between 4% and 25%, depending on the circumstances and severity of the error(s).\n",
        "\n",
        "Additionally, the professor reserves the right to apply bonus / extra credit for successfully completed further exploration challenges (for a maximum possible bonus total of around 12%):\n",
        "  + Inventory Bonus: +3% for CSV file inventory OR +6% for Google Sheets inventory\n",
        "  + Receipt Bonus: +3% for writing receipt to TXT file AND/OR +6% for sending receipt via email\n",
        "  + Image Bonus: +2% for displaying the product images in a reasonable,  semi-uniform way\n",
        "\n",
        "\n",
        "\n",
        "\n",
        "\n"
      ],
      "metadata": {
        "id": "ME5s2Ek6S1Dd"
      }
    },
    {
      "cell_type": "markdown",
      "source": [
        "# Solution"
      ],
      "metadata": {
        "id": "PaHSX83Qrx8j"
      }
    },
    {
      "cell_type": "markdown",
      "source": [
        "Setup"
      ],
      "metadata": {
        "id": "-AepW2ebd6fE"
      }
    },
    {
      "cell_type": "code",
      "source": [
        "#\n",
        "# PRODUCTS INVENTORY\n",
        "#\n",
        "\n",
        "products = [\n",
        "    {\"id\":1, \"name\": \"Chocolate Sandwich Cookies\", \"department\": \"snacks\", \"aisle\": \"cookies cakes\", \"price\": 3.50},\n",
        "    {\"id\":2, \"name\": \"All-Seasons Salt\", \"department\": \"pantry\", \"aisle\": \"spices seasonings\", \"price\": 4.99},\n",
        "    {\"id\":3, \"name\": \"Robust Golden Unsweetened Oolong Tea\", \"department\": \"beverages\", \"aisle\": \"tea\", \"price\": 2.49},\n",
        "    {\"id\":4, \"name\": \"Smart Ones Classic Favorites Mini Rigatoni With Vodka Cream Sauce\", \"department\": \"frozen\", \"aisle\": \"frozen meals\", \"price\": 6.99},\n",
        "    {\"id\":5, \"name\": \"Green Chile Anytime Sauce\", \"department\": \"pantry\", \"aisle\": \"marinades meat preparation\", \"price\": 7.99},\n",
        "    {\"id\":6, \"name\": \"Dry Nose Oil\", \"department\": \"personal care\", \"aisle\": \"cold flu allergy\", \"price\": 21.99},\n",
        "    {\"id\":7, \"name\": \"Pure Coconut Water With Orange\", \"department\": \"beverages\", \"aisle\": \"juice nectars\", \"price\": 3.50},\n",
        "    {\"id\":8, \"name\": \"Cut Russet Potatoes Steam N' Mash\", \"department\": \"frozen\", \"aisle\": \"frozen produce\", \"price\": 4.25},\n",
        "    {\"id\":9, \"name\": \"Light Strawberry Blueberry Yogurt\", \"department\": \"dairy eggs\", \"aisle\": \"yogurt\", \"price\": 6.50},\n",
        "    {\"id\":10, \"name\": \"Sparkling Orange Juice & Prickly Pear Beverage\", \"department\": \"beverages\", \"aisle\": \"water seltzer sparkling water\", \"price\": 2.99},\n",
        "    {\"id\":11, \"name\": \"Peach Mango Juice\", \"department\": \"beverages\", \"aisle\": \"refrigerated\", \"price\": 1.99},\n",
        "    {\"id\":12, \"name\": \"Chocolate Fudge Layer Cake\", \"department\": \"frozen\", \"aisle\": \"frozen dessert\", \"price\": 18.50},\n",
        "    {\"id\":13, \"name\": \"Saline Nasal Mist\", \"department\": \"personal care\", \"aisle\": \"cold flu allergy\", \"price\": 16.00},\n",
        "    {\"id\":14, \"name\": \"Fresh Scent Dishwasher Cleaner\", \"department\": \"household\", \"aisle\": \"dish detergents\", \"price\": 4.99},\n",
        "    {\"id\":15, \"name\": \"Overnight Diapers Size 6\", \"department\": \"babies\", \"aisle\": \"diapers wipes\", \"price\": 25.50},\n",
        "    {\"id\":16, \"name\": \"Mint Chocolate Flavored Syrup\", \"department\": \"snacks\", \"aisle\": \"ice cream toppings\", \"price\": 4.50},\n",
        "    {\"id\":17, \"name\": \"Rendered Duck Fat\", \"department\": \"meat seafood\", \"aisle\": \"poultry counter\", \"price\": 9.99},\n",
        "    {\"id\":18, \"name\": \"Pizza for One Suprema Frozen Pizza\", \"department\": \"frozen\", \"aisle\": \"frozen pizza\", \"price\": 12.50},\n",
        "    {\"id\":19, \"name\": \"Gluten Free Quinoa Three Cheese & Mushroom Blend\", \"department\": \"dry goods pasta\", \"aisle\": \"grains rice dried goods\", \"price\": 3.99},\n",
        "    {\"id\":20, \"name\": \"Pomegranate Cranberry & Aloe Vera Enrich Drink\", \"department\": \"beverages\", \"aisle\": \"juice nectars\", \"price\": 4.25}\n",
        "] # based on data from Instacart: https://www.instacart.com/datasets/grocery-shopping-2017\n",
        "\n",
        "print(type(products))\n",
        "print(len(products))\n",
        "print(products)"
      ],
      "metadata": {
        "colab": {
          "base_uri": "https://localhost:8080/"
        },
        "id": "6oHgtjlXeBIS",
        "outputId": "4f1dec5d-2570-4a86-9237-a30ac3ec38b9"
      },
      "execution_count": 8,
      "outputs": [
        {
          "output_type": "stream",
          "name": "stdout",
          "text": [
            "<class 'list'>\n",
            "20\n",
            "[{'id': 1, 'name': 'Chocolate Sandwich Cookies', 'department': 'snacks', 'aisle': 'cookies cakes', 'price': 3.5}, {'id': 2, 'name': 'All-Seasons Salt', 'department': 'pantry', 'aisle': 'spices seasonings', 'price': 4.99}, {'id': 3, 'name': 'Robust Golden Unsweetened Oolong Tea', 'department': 'beverages', 'aisle': 'tea', 'price': 2.49}, {'id': 4, 'name': 'Smart Ones Classic Favorites Mini Rigatoni With Vodka Cream Sauce', 'department': 'frozen', 'aisle': 'frozen meals', 'price': 6.99}, {'id': 5, 'name': 'Green Chile Anytime Sauce', 'department': 'pantry', 'aisle': 'marinades meat preparation', 'price': 7.99}, {'id': 6, 'name': 'Dry Nose Oil', 'department': 'personal care', 'aisle': 'cold flu allergy', 'price': 21.99}, {'id': 7, 'name': 'Pure Coconut Water With Orange', 'department': 'beverages', 'aisle': 'juice nectars', 'price': 3.5}, {'id': 8, 'name': \"Cut Russet Potatoes Steam N' Mash\", 'department': 'frozen', 'aisle': 'frozen produce', 'price': 4.25}, {'id': 9, 'name': 'Light Strawberry Blueberry Yogurt', 'department': 'dairy eggs', 'aisle': 'yogurt', 'price': 6.5}, {'id': 10, 'name': 'Sparkling Orange Juice & Prickly Pear Beverage', 'department': 'beverages', 'aisle': 'water seltzer sparkling water', 'price': 2.99}, {'id': 11, 'name': 'Peach Mango Juice', 'department': 'beverages', 'aisle': 'refrigerated', 'price': 1.99}, {'id': 12, 'name': 'Chocolate Fudge Layer Cake', 'department': 'frozen', 'aisle': 'frozen dessert', 'price': 18.5}, {'id': 13, 'name': 'Saline Nasal Mist', 'department': 'personal care', 'aisle': 'cold flu allergy', 'price': 16.0}, {'id': 14, 'name': 'Fresh Scent Dishwasher Cleaner', 'department': 'household', 'aisle': 'dish detergents', 'price': 4.99}, {'id': 15, 'name': 'Overnight Diapers Size 6', 'department': 'babies', 'aisle': 'diapers wipes', 'price': 25.5}, {'id': 16, 'name': 'Mint Chocolate Flavored Syrup', 'department': 'snacks', 'aisle': 'ice cream toppings', 'price': 4.5}, {'id': 17, 'name': 'Rendered Duck Fat', 'department': 'meat seafood', 'aisle': 'poultry counter', 'price': 9.99}, {'id': 18, 'name': 'Pizza for One Suprema Frozen Pizza', 'department': 'frozen', 'aisle': 'frozen pizza', 'price': 12.5}, {'id': 19, 'name': 'Gluten Free Quinoa Three Cheese & Mushroom Blend', 'department': 'dry goods pasta', 'aisle': 'grains rice dried goods', 'price': 3.99}, {'id': 20, 'name': 'Pomegranate Cranberry & Aloe Vera Enrich Drink', 'department': 'beverages', 'aisle': 'juice nectars', 'price': 4.25}]\n"
          ]
        }
      ]
    },
    {
      "cell_type": "markdown",
      "source": [
        "This is the only section that will be evaluated. Make sure the final working version of the code is completely contained within this section."
      ],
      "metadata": {
        "id": "LLtxUAzrzfh_"
      }
    },
    {
      "cell_type": "code",
      "source": [
        "from google.colab import auth\n",
        "\n",
        "# asks you to login with your google account\n",
        "auth.authenticate_user()"
      ],
      "metadata": {
        "id": "w6MUIYIsVbzG"
      },
      "execution_count": 9,
      "outputs": []
    },
    {
      "cell_type": "code",
      "source": [
        "from google.auth import default\n",
        "\n",
        "# uses your google account credentials\n",
        "credentials, _ = default()\n",
        "print(type(credentials)) #> <class 'google.auth.compute_engine.credentials.Credentials'>"
      ],
      "metadata": {
        "colab": {
          "base_uri": "https://localhost:8080/"
        },
        "id": "3z_B6CF3VnRm",
        "outputId": "2d5fbef3-01dc-479c-e3bd-e647859e6524"
      },
      "execution_count": 10,
      "outputs": [
        {
          "output_type": "stream",
          "name": "stdout",
          "text": [
            "<class 'google.auth.compute_engine.credentials.Credentials'>\n"
          ]
        }
      ]
    },
    {
      "cell_type": "markdown",
      "source": [
        "Google Sheet\n",
        "\n",
        "\n",
        "*   https://docs.google.com/spreadsheets/d/1ItN7Cc2Yn4K90cMIsxi2P045Gzw0y2JHB_EkV4mXXpI/edit#gid=139638459\n",
        "*   List item\n",
        "\n"
      ],
      "metadata": {
        "id": "hI_r_Oe9Zfds"
      }
    },
    {
      "cell_type": "code",
      "source": [],
      "metadata": {
        "id": "nw_3hY3sZh-c"
      },
      "execution_count": 2,
      "outputs": []
    },
    {
      "cell_type": "code",
      "source": [
        "from getpass import getpass\n",
        "\n",
        "SENDGRID_API_KEY = getpass(\"SENDGRID_API_KEY:\")\n",
        "SENDER_ADDRESS = getpass(\"SENDER_ADDRESS: \") or \"ral565@stern.nyu.edu\""
      ],
      "metadata": {
        "colab": {
          "base_uri": "https://localhost:8080/"
        },
        "id": "qxwQT0So7446",
        "outputId": "21242e96-d026-4cfe-8325-7a7ef880d88b"
      },
      "execution_count": 4,
      "outputs": [
        {
          "name": "stdout",
          "output_type": "stream",
          "text": [
            "SENDGRID_API_KEY:··········\n",
            "SENDER_ADDRESS: ··········\n"
          ]
        }
      ]
    },
    {
      "cell_type": "code",
      "source": [
        "from sendgrid import SendGridAPIClient\n",
        "from sendgrid.helpers.mail import Mail\n",
        "\n",
        "def send_email(subject=\"[Shopping Cart App] This is a test\", html=\"<p>Hello World</p>\", recipient_address=SENDER_ADDRESS):\n",
        "    \"\"\"\n",
        "        Sends an email with the specified subject and html contents to the specified recipient,\n",
        "\n",
        "        If recipient is not specified, sends to the admin's sender address by default.\n",
        "    \"\"\"\n",
        "    client = SendGridAPIClient(SENDGRID_API_KEY) #> <class 'sendgrid.sendgrid.SendGridAPIClient>\n",
        "    print(\"CLIENT:\", type(client))\n",
        "    print(\"SUBJECT:\", subject)\n",
        "    #print(\"HTML:\", html)\n",
        "\n",
        "    message = Mail(from_email=SENDER_ADDRESS, to_emails=recipient_address, subject=subject, html_content=html)\n",
        "    try:\n",
        "        response = client.send(message)\n",
        "        print(\"RESPONSE:\", type(response)) #> <class 'python_http_client.client.Response'>\n",
        "        print(response.status_code) #> 202 indicates SUCCESS\n",
        "        return response\n",
        "    except Exception as e:\n",
        "        print(\"OOPS\", type(e), e)\n",
        "        return None"
      ],
      "metadata": {
        "id": "CpNoMIkbBpIF"
      },
      "execution_count": 5,
      "outputs": []
    },
    {
      "cell_type": "code",
      "source": [
        "# send a test email:\n",
        "send_email()"
      ],
      "metadata": {
        "colab": {
          "base_uri": "https://localhost:8080/"
        },
        "id": "u2i3xqASCbD0",
        "outputId": "3fce04cd-1eee-4501-98a7-5d5a0b25ac01"
      },
      "execution_count": 6,
      "outputs": [
        {
          "output_type": "stream",
          "name": "stdout",
          "text": [
            "CLIENT: <class 'sendgrid.sendgrid.SendGridAPIClient'>\n",
            "SUBJECT: [Shopping Cart App] This is a test\n",
            "OOPS <class 'python_http_client.exceptions.UnauthorizedError'> HTTP Error 401: Unauthorized\n"
          ]
        }
      ]
    },
    {
      "cell_type": "markdown",
      "source": [
        "Checkout Process"
      ],
      "metadata": {
        "id": "KZedDuvP908l"
      }
    },
    {
      "cell_type": "code",
      "source": [
        "!pip install checkout_module"
      ],
      "metadata": {
        "colab": {
          "base_uri": "https://localhost:8080/"
        },
        "id": "7ITIK3rPnqoS",
        "outputId": "6dd52461-772d-42c8-9af5-d0a3285d3f91"
      },
      "execution_count": 17,
      "outputs": [
        {
          "output_type": "stream",
          "name": "stdout",
          "text": [
            "\u001b[31mERROR: Could not find a version that satisfies the requirement checkout_module (from versions: none)\u001b[0m\u001b[31m\n",
            "\u001b[0m\u001b[31mERROR: No matching distribution found for checkout_module\u001b[0m\u001b[31m\n",
            "\u001b[0m"
          ]
        }
      ]
    },
    {
      "cell_type": "code",
      "source": [
        "from checkout_module import user_checkout\n",
        "\n",
        "selected_products, subtotal = user_checkout()\n",
        "\n",
        "print(\"-------------------\")\n",
        "print(\"YOU SELECTED:\", len(selected_products), \"PRODUCTS\")\n",
        "print(\"SUBTOTAL:\", subtotal)"
      ],
      "metadata": {
        "id": "Mq1p9Jhhrz1w",
        "colab": {
          "base_uri": "https://localhost:8080/",
          "height": 383
        },
        "outputId": "10175b02-4d40-4244-c23f-0532bc4fbeff"
      },
      "execution_count": 16,
      "outputs": [
        {
          "output_type": "error",
          "ename": "ModuleNotFoundError",
          "evalue": "ignored",
          "traceback": [
            "\u001b[0;31m---------------------------------------------------------------------------\u001b[0m",
            "\u001b[0;31mModuleNotFoundError\u001b[0m                       Traceback (most recent call last)",
            "\u001b[0;32m<ipython-input-16-63e9720cfb56>\u001b[0m in \u001b[0;36m<cell line: 1>\u001b[0;34m()\u001b[0m\n\u001b[0;32m----> 1\u001b[0;31m \u001b[0;32mfrom\u001b[0m \u001b[0mcheckout_module\u001b[0m \u001b[0;32mimport\u001b[0m \u001b[0muser_checkout\u001b[0m\u001b[0;34m\u001b[0m\u001b[0;34m\u001b[0m\u001b[0m\n\u001b[0m\u001b[1;32m      2\u001b[0m \u001b[0;34m\u001b[0m\u001b[0m\n\u001b[1;32m      3\u001b[0m \u001b[0mselected_products\u001b[0m\u001b[0;34m,\u001b[0m \u001b[0msubtotal\u001b[0m \u001b[0;34m=\u001b[0m \u001b[0muser_checkout\u001b[0m\u001b[0;34m(\u001b[0m\u001b[0;34m)\u001b[0m\u001b[0;34m\u001b[0m\u001b[0;34m\u001b[0m\u001b[0m\n\u001b[1;32m      4\u001b[0m \u001b[0;34m\u001b[0m\u001b[0m\n\u001b[1;32m      5\u001b[0m \u001b[0mprint\u001b[0m\u001b[0;34m(\u001b[0m\u001b[0;34m\"-------------------\"\u001b[0m\u001b[0;34m)\u001b[0m\u001b[0;34m\u001b[0m\u001b[0;34m\u001b[0m\u001b[0m\n",
            "\u001b[0;31mModuleNotFoundError\u001b[0m: No module named 'checkout_module'",
            "",
            "\u001b[0;31m---------------------------------------------------------------------------\u001b[0;32m\nNOTE: If your import is failing due to a missing package, you can\nmanually install dependencies using either !pip or !apt.\n\nTo view examples of installing some common dependencies, click the\n\"Open Examples\" button below.\n\u001b[0;31m---------------------------------------------------------------------------\u001b[0m\n"
          ],
          "errorDetails": {
            "actions": [
              {
                "action": "open_url",
                "actionText": "Open Examples",
                "url": "/notebooks/snippets/importing_libraries.ipynb"
              }
            ]
          }
        }
      ]
    },
    {
      "cell_type": "code",
      "source": [],
      "metadata": {
        "id": "ixVtLtNSzfOY"
      },
      "execution_count": null,
      "outputs": []
    },
    {
      "cell_type": "code",
      "source": [],
      "metadata": {
        "id": "UOcGIJSNzfLz"
      },
      "execution_count": null,
      "outputs": []
    },
    {
      "cell_type": "code",
      "source": [],
      "metadata": {
        "id": "NfFrgG7kzfJP"
      },
      "execution_count": null,
      "outputs": []
    },
    {
      "cell_type": "code",
      "source": [],
      "metadata": {
        "id": "Iy1r9q3VzsLb"
      },
      "execution_count": null,
      "outputs": []
    },
    {
      "cell_type": "code",
      "source": [],
      "metadata": {
        "id": "Yg83NEJ1zsIw"
      },
      "execution_count": null,
      "outputs": []
    },
    {
      "cell_type": "code",
      "source": [],
      "metadata": {
        "id": "1H9B_Q_5zsGA"
      },
      "execution_count": null,
      "outputs": []
    },
    {
      "cell_type": "markdown",
      "source": [
        "# Scratch Work and Starter Code"
      ],
      "metadata": {
        "id": "ekIj0aU66R9M"
      }
    },
    {
      "cell_type": "markdown",
      "source": [
        "This section contains some example code you may find helpful. If you would like to use any of this code in your solution, make sure to move those cells up into the solution section (or copy the code into the solution section).\n",
        "\n",
        "You can then comment-out or remove any of the unusued code below, as desired.\n",
        "\n",
        "Remember, code below will not be evaluated. Make sure the solution section above has all the code you need to make the app work."
      ],
      "metadata": {
        "id": "9GRq-wa3rRzc"
      }
    },
    {
      "cell_type": "markdown",
      "source": [
        "### Image Display Examples"
      ],
      "metadata": {
        "id": "NznIzPBWfxMt"
      }
    },
    {
      "cell_type": "markdown",
      "source": [
        "Use this code if you would like to display product images (only applicable for certain inventory options that contain image URLs)."
      ],
      "metadata": {
        "id": "RveFByS50zPG"
      }
    },
    {
      "cell_type": "code",
      "source": [
        "#\n",
        "# IMAGE DISPLAY\n",
        "#\n",
        "\n",
        "from IPython.display import Image, display\n",
        "\n",
        "print(\"-----------\")\n",
        "print(\"EXAMPLE IMAGES:\")\n",
        "\n",
        "print(\"-----------\")\n",
        "#image_url = \"https://upload.wikimedia.org/wikipedia/commons/thumb/9/9f/Georgetown_Hoyas_logo.svg/64px-Georgetown_Hoyas_logo.svg.png\"\n",
        "image_url = \"https://smartdesignworldwide.com/wp-content/uploads/2018/05/nyu-logo.jpg\"\n",
        "display(Image(url=image_url, height=100))\n",
        "\n",
        "print(\"-----------\")\n",
        "display(Image(url=\"https://www.python.org/static/community_logos/python-powered-w-200x80.png\"))\n",
        "\n",
        "print(\"-----------\")\n",
        "display(Image(url=\"https://www.shareicon.net/data/128x128/2016/05/04/759867_food_512x512.png\", height=100))"
      ],
      "metadata": {
        "id": "fUgRCt3Gfygc"
      },
      "execution_count": null,
      "outputs": []
    },
    {
      "cell_type": "markdown",
      "source": [
        "### Price Formatting Function"
      ],
      "metadata": {
        "id": "D2_cqRlx9yas"
      }
    },
    {
      "cell_type": "markdown",
      "source": [
        "Use this function to format prices as USD."
      ],
      "metadata": {
        "id": "l8PasQKB0w8h"
      }
    },
    {
      "cell_type": "code",
      "source": [
        "#\n",
        "# DOLLAR FORMATTING FUNCTION\n",
        "# ... use this function later if you find it helpful :-)\n",
        "#\n",
        "\n",
        "def to_usd(my_price):\n",
        "    \"\"\"\n",
        "    Converts a numeric value to usd-formatted string, for printing and display purposes.\n",
        "\n",
        "    Param: my_price (int or float) like 4000.444444\n",
        "\n",
        "    Example: to_usd(4000.444444)\n",
        "\n",
        "    Returns: $4,000.44\n",
        "    \"\"\"\n",
        "    return f\"${my_price:,.2f}\" #> $12,000.71\n",
        "\n",
        "\n",
        "\n",
        "assert to_usd(4.5) == \"$4.50\"\n",
        "assert to_usd(1234567890.98765) == \"$1,234,567,890.99\""
      ],
      "metadata": {
        "id": "SGztgSOT6ttE"
      },
      "execution_count": null,
      "outputs": []
    },
    {
      "cell_type": "markdown",
      "source": [
        "### Inventory Option A) Hard Coded"
      ],
      "metadata": {
        "id": "ISAWSzE392Wn"
      }
    },
    {
      "cell_type": "markdown",
      "source": [
        "This is the easiest inventory option. If you use this inventory option, there is no need to use other inventory options."
      ],
      "metadata": {
        "id": "9FGDKaYns-Ra"
      }
    },
    {
      "cell_type": "code",
      "source": [
        "#\n",
        "# PRODUCTS INVENTORY\n",
        "#\n",
        "\n",
        "products = [\n",
        "    {\"id\":1, \"name\": \"Chocolate Sandwich Cookies\", \"department\": \"snacks\", \"aisle\": \"cookies cakes\", \"price\": 3.50},\n",
        "    {\"id\":2, \"name\": \"All-Seasons Salt\", \"department\": \"pantry\", \"aisle\": \"spices seasonings\", \"price\": 4.99},\n",
        "    {\"id\":3, \"name\": \"Robust Golden Unsweetened Oolong Tea\", \"department\": \"beverages\", \"aisle\": \"tea\", \"price\": 2.49},\n",
        "    {\"id\":4, \"name\": \"Smart Ones Classic Favorites Mini Rigatoni With Vodka Cream Sauce\", \"department\": \"frozen\", \"aisle\": \"frozen meals\", \"price\": 6.99},\n",
        "    {\"id\":5, \"name\": \"Green Chile Anytime Sauce\", \"department\": \"pantry\", \"aisle\": \"marinades meat preparation\", \"price\": 7.99},\n",
        "    {\"id\":6, \"name\": \"Dry Nose Oil\", \"department\": \"personal care\", \"aisle\": \"cold flu allergy\", \"price\": 21.99},\n",
        "    {\"id\":7, \"name\": \"Pure Coconut Water With Orange\", \"department\": \"beverages\", \"aisle\": \"juice nectars\", \"price\": 3.50},\n",
        "    {\"id\":8, \"name\": \"Cut Russet Potatoes Steam N' Mash\", \"department\": \"frozen\", \"aisle\": \"frozen produce\", \"price\": 4.25},\n",
        "    {\"id\":9, \"name\": \"Light Strawberry Blueberry Yogurt\", \"department\": \"dairy eggs\", \"aisle\": \"yogurt\", \"price\": 6.50},\n",
        "    {\"id\":10, \"name\": \"Sparkling Orange Juice & Prickly Pear Beverage\", \"department\": \"beverages\", \"aisle\": \"water seltzer sparkling water\", \"price\": 2.99},\n",
        "    {\"id\":11, \"name\": \"Peach Mango Juice\", \"department\": \"beverages\", \"aisle\": \"refrigerated\", \"price\": 1.99},\n",
        "    {\"id\":12, \"name\": \"Chocolate Fudge Layer Cake\", \"department\": \"frozen\", \"aisle\": \"frozen dessert\", \"price\": 18.50},\n",
        "    {\"id\":13, \"name\": \"Saline Nasal Mist\", \"department\": \"personal care\", \"aisle\": \"cold flu allergy\", \"price\": 16.00},\n",
        "    {\"id\":14, \"name\": \"Fresh Scent Dishwasher Cleaner\", \"department\": \"household\", \"aisle\": \"dish detergents\", \"price\": 4.99},\n",
        "    {\"id\":15, \"name\": \"Overnight Diapers Size 6\", \"department\": \"babies\", \"aisle\": \"diapers wipes\", \"price\": 25.50},\n",
        "    {\"id\":16, \"name\": \"Mint Chocolate Flavored Syrup\", \"department\": \"snacks\", \"aisle\": \"ice cream toppings\", \"price\": 4.50},\n",
        "    {\"id\":17, \"name\": \"Rendered Duck Fat\", \"department\": \"meat seafood\", \"aisle\": \"poultry counter\", \"price\": 9.99},\n",
        "    {\"id\":18, \"name\": \"Pizza for One Suprema Frozen Pizza\", \"department\": \"frozen\", \"aisle\": \"frozen pizza\", \"price\": 12.50},\n",
        "    {\"id\":19, \"name\": \"Gluten Free Quinoa Three Cheese & Mushroom Blend\", \"department\": \"dry goods pasta\", \"aisle\": \"grains rice dried goods\", \"price\": 3.99},\n",
        "    {\"id\":20, \"name\": \"Pomegranate Cranberry & Aloe Vera Enrich Drink\", \"department\": \"beverages\", \"aisle\": \"juice nectars\", \"price\": 4.25}\n",
        "] # based on data from Instacart: https://www.instacart.com/datasets/grocery-shopping-2017\n",
        "\n",
        "print(type(products))\n",
        "print(len(products))\n",
        "print(products)"
      ],
      "metadata": {
        "id": "o3bMy2Al6Tdm"
      },
      "execution_count": null,
      "outputs": []
    },
    {
      "cell_type": "code",
      "source": [],
      "metadata": {
        "id": "BrwDBjS5yqAs"
      },
      "execution_count": null,
      "outputs": []
    },
    {
      "cell_type": "markdown",
      "source": [
        "### Inventory Option B) CSV File\n",
        "\n"
      ],
      "metadata": {
        "id": "MVhv3dwV97KX"
      }
    },
    {
      "cell_type": "markdown",
      "source": [
        "This is one possible inventory option. If you use this inventory option, there is no need to use other inventory options.\n",
        "\n",
        "Choose one of these two possible hosted CSV files:\n",
        "  + [\"products.csv\"](https://raw.githubusercontent.com/prof-rossetti/intro-to-python/master/data/products.csv) -- the basic list of products, matches the hard-coded list provided in Inventory Option A\n",
        "  + [\"products-default.csv\"](https://raw.githubusercontent.com/prof-rossetti/intro-to-python/master/data/products-default.csv) -- contains additional custom products, as well as an additional column of product image URLs\n",
        "\n",
        "> HINT: see also the pandas [`read_csv` function docs](https://pandas.pydata.org/pandas-docs/stable/reference/api/pandas.read_csv.html)"
      ],
      "metadata": {
        "id": "BwnI5tRJtIaK"
      }
    },
    {
      "cell_type": "code",
      "source": [
        "#\n",
        "# PRODUCTS INVENTORY (OPTION B - HOSTED CSV FILE)\n",
        "# ... use this code to obtain an inventory of products\n",
        "# ... or comment it out / remove if you end up choosing a different inventory option\n",
        "#\n",
        "\n",
        "from pandas import read_csv\n",
        "\n",
        "products_csv_file = \"https://raw.githubusercontent.com/prof-rossetti/intro-to-python/master/data/products.csv\"\n",
        "\n",
        "products_df = read_csv(products_csv_file)\n",
        "#products_df.index = products_df[\"id\"]\n",
        "products_df"
      ],
      "metadata": {
        "id": "GWG9zxbc7gmq"
      },
      "execution_count": null,
      "outputs": []
    },
    {
      "cell_type": "code",
      "source": [
        "# convert dataframe to list of dictionaries, if you prefer:\n",
        "\n",
        "products = products_df.to_dict(\"records\")\n",
        "print(type(products))\n",
        "print(len(products))\n",
        "print(products)"
      ],
      "metadata": {
        "id": "iM2I4oOHg4sb"
      },
      "execution_count": null,
      "outputs": []
    },
    {
      "cell_type": "code",
      "source": [],
      "metadata": {
        "id": "zGrbsni84veh"
      },
      "execution_count": null,
      "outputs": []
    },
    {
      "cell_type": "code",
      "source": [],
      "metadata": {
        "id": "mY2cD1lXwkkD"
      },
      "execution_count": null,
      "outputs": []
    },
    {
      "cell_type": "markdown",
      "source": [
        "### Inventory Option C) Google Sheets"
      ],
      "metadata": {
        "id": "A-yI-FT4-Nwb"
      }
    },
    {
      "cell_type": "markdown",
      "source": [
        "This is perhaps the most real world applicable inventory option. If you use this inventory option, there is no need to use other inventory options.\n",
        "\n",
        "Here is a link to the [Google Sheet document](https://docs.google.com/spreadsheets/d/1ItN7Cc2Yn4K90cMIsxi2P045Gzw0y2JHB_EkV4mXXpI/edit#gid=1430039847). Choose one of these two sheets:\n",
        "\n",
        "  + [\"products-default\" sheet](https://docs.google.com/spreadsheets/d/1ItN7Cc2Yn4K90cMIsxi2P045Gzw0y2JHB_EkV4mXXpI/edit#gid=837633200) -- contains the basic products, with a column of image URLs (same as similarly named CSV Inventory option)\n",
        "  + [\"products-custom\" sheet](https://docs.google.com/spreadsheets/d/1ItN7Cc2Yn4K90cMIsxi2P045Gzw0y2JHB_EkV4mXXpI/edit#gid=139638459) -- contains even more products, including ones with barcode identifiers\n",
        "\n",
        "\n",
        "> HINT: see the [`gspread` package notes](https://github.com/prof-rossetti/intro-to-python/blob/main/notes/python/packages/gspread.md) for starter code (use the colab credentials option, not the local credentials file option)"
      ],
      "metadata": {
        "id": "RVBm-Un7tQ1e"
      }
    },
    {
      "cell_type": "code",
      "source": [
        "#\n",
        "# PRODUCTS INVENTORY (OPTION C - GOOGLE SHEET)\n",
        "# ... use this code to obtain an inventory of products\n",
        "# ... or comment it out / remove if you end up choosing a different inventory option\n",
        "#\n"
      ],
      "metadata": {
        "id": "Bp9jvdee8-zB"
      },
      "execution_count": null,
      "outputs": []
    },
    {
      "cell_type": "code",
      "source": [
        "%%capture\n",
        "\n",
        "# !pip install gspread==5.5.0\n",
        "\n",
        "# installing the newest version of the gspread package:\n",
        "!pip uninstall gspread -y\n",
        "!pip install gspread --upgrade"
      ],
      "metadata": {
        "id": "dnvXKwCAdrXN"
      },
      "execution_count": null,
      "outputs": []
    },
    {
      "cell_type": "code",
      "execution_count": null,
      "metadata": {
        "id": "Us45iDdv5f2q"
      },
      "outputs": [],
      "source": [
        "from google.colab import auth\n",
        "\n",
        "# asks you to login\n",
        "auth.authenticate_user()"
      ]
    },
    {
      "cell_type": "code",
      "source": [
        "from google.auth import default\n",
        "\n",
        "# uses your login credentials\n",
        "creds, _ = default()\n",
        "print(creds)"
      ],
      "metadata": {
        "id": "ZBwQ6UwA59l8"
      },
      "execution_count": null,
      "outputs": []
    },
    {
      "cell_type": "code",
      "source": [
        "import gspread\n",
        "\n",
        "# authorizes the gspread package to use your login credentials (in case we were using a private document)\n",
        "client = gspread.authorize(creds)"
      ],
      "metadata": {
        "id": "ouQZ0rGb6dF3"
      },
      "execution_count": null,
      "outputs": []
    },
    {
      "cell_type": "code",
      "source": [
        "# see: https://docs.google.com/spreadsheets/d/1ItN7Cc2Yn4K90cMIsxi2P045Gzw0y2JHB_EkV4mXXpI/edit?usp=sharing\n",
        "DOCUMENT_ID = \"1ItN7Cc2Yn4K90cMIsxi2P045Gzw0y2JHB_EkV4mXXpI\" # identifier of the public access database (see document URL)\n",
        "#SHEET_NAME = \"products-default\"\n",
        "SHEET_NAME = \"products-custom\"\n",
        "\n",
        "doc = client.open_by_key(DOCUMENT_ID)\n",
        "sheet = doc.worksheet(SHEET_NAME)\n",
        "\n",
        "print(\"DOC:\", doc)\n",
        "print(\"SHEET:\", sheet)"
      ],
      "metadata": {
        "id": "SebrDNqx5pJV"
      },
      "execution_count": null,
      "outputs": []
    },
    {
      "cell_type": "code",
      "source": [
        "# get all rows from the sheet (will need to re-run to re-fetch if the inventory gets updated)\n",
        "\n",
        "products = sheet.get_all_records(numericise_ignore=[1])\n",
        "print(type(products))\n",
        "print(len(products))\n",
        "print(products)"
      ],
      "metadata": {
        "id": "19b3HLvc_xVN"
      },
      "execution_count": null,
      "outputs": []
    },
    {
      "cell_type": "code",
      "source": [],
      "metadata": {
        "id": "owN8zJruwW4t"
      },
      "execution_count": null,
      "outputs": []
    },
    {
      "cell_type": "code",
      "source": [],
      "metadata": {
        "id": "zd2nb5-Ewjc-"
      },
      "execution_count": null,
      "outputs": []
    },
    {
      "cell_type": "markdown",
      "source": [
        "## Product Lookup Function"
      ],
      "metadata": {
        "id": "sHZ7P8hsyr8g"
      }
    },
    {
      "cell_type": "code",
      "source": [
        "def lookup_product(product_id):\n",
        "    \"\"\"Assumes the \"products\" variable is in memory as a list of dictionaries.\n",
        "\n",
        "        Params: product_id (int or string) the identifier or bar code of the product you want to look up.\n",
        "\n",
        "        Returns: a product dictionary, or None if not found.\n",
        "    \"\"\"\n",
        "    try:\n",
        "        matching_products = [p for p in products if str(p[\"id\"]) == str(product_id)]\n",
        "        product = matching_products[0] # triggers IndexError if there are no matches / no first item in the list\n",
        "        return product\n",
        "    except IndexError as err:\n",
        "        return None\n",
        "\n",
        "\n",
        "assert lookup_product(2)[\"name\"] == \"All-Seasons Salt\"\n",
        "assert lookup_product(18)[\"name\"] == \"Pizza for One Suprema Frozen Pizza\"\n",
        "assert lookup_product(999) == None\n",
        "assert lookup_product(\"OOPS\") == None\n",
        "print(\"TESTS PASS\")"
      ],
      "metadata": {
        "id": "s9R5gi8uytkd"
      },
      "execution_count": null,
      "outputs": []
    },
    {
      "cell_type": "code",
      "source": [
        "example_matching_product = lookup_product(2)\n",
        "print(example_matching_product)"
      ],
      "metadata": {
        "id": "bwHX3P5I1WgW"
      },
      "execution_count": null,
      "outputs": []
    },
    {
      "cell_type": "markdown",
      "source": [
        "## Email Sending Function"
      ],
      "metadata": {
        "id": "HAD7Vc6j_Nq1"
      }
    },
    {
      "cell_type": "markdown",
      "source": [
        "This code uses the `sendgrid` Python package to interface with the [SendGrid](https://sendgrid.com/) email sending service.\n",
        "\n",
        "In order to use this code, you'll first need to create a SendGrid account, verify your single sender address, and obtain an API Key. You will be asked to supply your sender address and API Key via the `getpass` secure input cell below.\n",
        "\n",
        "> HINT: see the [sendgrid package docs](https://github.com/prof-rossetti/intro-to-python/blob/main/notes/python/packages/sendgrid.md#setup) for more info"
      ],
      "metadata": {
        "id": "kKzO2Mhzws-x"
      }
    },
    {
      "cell_type": "code",
      "source": [
        "#\n",
        "# EMAIL SENDING (optional)\n",
        "# ... use this code to send receipt via email\n",
        "# ... or comment it out / remove if you end up not sending email receipts\n",
        "#"
      ],
      "metadata": {
        "id": "LVy4F49f3R63"
      },
      "execution_count": null,
      "outputs": []
    },
    {
      "cell_type": "code",
      "source": [
        "%%capture\n",
        "\n",
        "# install sendgrid package (specific version that will work with the email sending function provided below)\n",
        "!pip install sendgrid==6.5.0"
      ],
      "metadata": {
        "id": "ZAn_aiFsJmmJ"
      },
      "execution_count": null,
      "outputs": []
    },
    {
      "cell_type": "code",
      "source": [
        "from getpass import getpass\n",
        "\n",
        "SENDGRID_API_KEY = getpass(\"Please input your Sendgrid API Key: \")\n",
        "SENDER_ADDRESS = getpass(\"Please input your Sender Email Address: \")"
      ],
      "metadata": {
        "id": "JjlSSRB7JOSM"
      },
      "execution_count": null,
      "outputs": []
    },
    {
      "cell_type": "code",
      "source": [
        "from sendgrid import SendGridAPIClient\n",
        "from sendgrid.helpers.mail import Mail\n",
        "\n",
        "def send_email(subject=\"[Shopping Cart App] This is a test\", html=\"<p>Hello World</p>\", recipient_address=SENDER_ADDRESS):\n",
        "    \"\"\"\n",
        "        Sends an email with the specified subject and html contents to the specified recipient,\n",
        "\n",
        "        If recipient is not specified, sends to the admin's sender address by default.\n",
        "    \"\"\"\n",
        "    client = SendGridAPIClient(SENDGRID_API_KEY) #> <class 'sendgrid.sendgrid.SendGridAPIClient>\n",
        "    print(\"CLIENT:\", type(client))\n",
        "    print(\"SUBJECT:\", subject)\n",
        "    #print(\"HTML:\", html)\n",
        "\n",
        "    message = Mail(from_email=SENDER_ADDRESS, to_emails=recipient_address, subject=subject, html_content=html)\n",
        "    try:\n",
        "        response = client.send(message)\n",
        "        print(\"RESPONSE:\", type(response)) #> <class 'python_http_client.client.Response'>\n",
        "        print(response.status_code) #> 202 indicates SUCCESS\n",
        "        return response\n",
        "    except Exception as e:\n",
        "        print(\"OOPS\", type(e), e)\n",
        "        return None\n"
      ],
      "metadata": {
        "id": "zQbrdsIQeb5p"
      },
      "execution_count": null,
      "outputs": []
    },
    {
      "cell_type": "code",
      "source": [
        "# send a test email:\n",
        "send_email()"
      ],
      "metadata": {
        "id": "yIZuIc_dyOYL"
      },
      "execution_count": null,
      "outputs": []
    }
  ]
}