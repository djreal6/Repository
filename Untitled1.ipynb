{
  "nbformat": 4,
  "nbformat_minor": 0,
  "metadata": {
    "colab": {
      "provenance": [],
      "authorship_tag": "ABX9TyNVXBnU6Ein6tbzxYOzLrKz",
      "include_colab_link": true
    },
    "kernelspec": {
      "name": "python3",
      "display_name": "Python 3"
    },
    "language_info": {
      "name": "python"
    }
  },
  "cells": [
    {
      "cell_type": "markdown",
      "metadata": {
        "id": "view-in-github",
        "colab_type": "text"
      },
      "source": [
        "<a href=\"https://colab.research.google.com/github/djreal6/Repository/blob/main/Untitled1.ipynb\" target=\"_parent\"><img src=\"https://colab.research.google.com/assets/colab-badge.svg\" alt=\"Open In Colab\"/></a>"
      ]
    },
    {
      "cell_type": "markdown",
      "source": [
        "The gradients for w5, W6,W7,W8 for all three samples in the minibatch."
      ],
      "metadata": {
        "id": "9C4mKSlTC2xN"
      }
    },
    {
      "cell_type": "code",
      "execution_count": 10,
      "metadata": {
        "colab": {
          "base_uri": "https://localhost:8080/"
        },
        "id": "ffHVxjZmB2-E",
        "outputId": "4991367a-ec2b-4b3a-c0d2-f53b2b37aa86"
      },
      "outputs": [
        {
          "output_type": "stream",
          "name": "stdout",
          "text": [
            "Sample 1:\n",
            "Gradient for w5: 0.0822\n",
            "Gradient for w6: 0.0827\n",
            "Gradient for w7: 0.0822\n",
            "Gradient for w8: 0.0827\n",
            "Sample 2:\n",
            "Gradient for w5: 0.0803\n",
            "Gradient for w6: 0.0810\n",
            "Gradient for w7: 0.0803\n",
            "Gradient for w8: 0.0810\n",
            "Sample 3:\n",
            "Gradient for w5: 0.0808\n",
            "Gradient for w6: 0.0812\n",
            "Gradient for w7: 0.0808\n",
            "Gradient for w8: 0.0812\n"
          ]
        }
      ],
      "source": [
        "import numpy as np\n",
        "\n",
        "# Define the sigmoid activation function\n",
        "def sigmoid(x):\n",
        "    return 1 / (1 + np.exp(-x))\n",
        "\n",
        "# Define the inputs and targets for all three samples in the minibatch\n",
        "inputs = np.array([[0.05, 0.10], [0.07, 0.15], [0.02, 0.08]])\n",
        "targets_o1 = np.array([0.01, 0.03, 0.02])\n",
        "\n",
        "# Define the weights for all layers\n",
        "W1 = 0.15\n",
        "W2 = 0.20\n",
        "W3 = 0.25\n",
        "W4 = 0.30\n",
        "W5 = 0.40\n",
        "W6 = 0.45\n",
        "W7 = 0.50\n",
        "W8 = 0.55\n",
        "\n",
        "# Initialize lists to store the gradients for w5, w6, w7, and w8\n",
        "gradients_w5 = []\n",
        "gradients_w6 = []\n",
        "gradients_w7 = []\n",
        "gradients_w8 = []\n",
        "\n",
        "# Loop through each sample in the minibatch\n",
        "for i in range(3):\n",
        "    X1, X2 = inputs[i]\n",
        "\n",
        "    # Calculate the weighted sums and activations for the hidden layer\n",
        "    in_h1 = X1 * W1 + X2 * W2 + 0.35\n",
        "    outh1 = sigmoid(in_h1)\n",
        "    in_h2 = X1 * W3 + X2 * W4 + 0.35\n",
        "    outh2 = sigmoid(in_h2)\n",
        "\n",
        "    # Calculate the weighted sum and activation for the output layer\n",
        "    in_o1 = outh1 * W5 + outh2 * W6 + 0.6\n",
        "    out_o1 = sigmoid(in_o1)\n",
        "\n",
        "    # Calculate the gradients for w5, w6, w7, and w8 for this sample\n",
        "    gradient_w5 = -(targets_o1[i] - out_o1) * out_o1 * (1 - out_o1) * outh1\n",
        "    gradient_w6 = -(targets_o1[i] - out_o1) * out_o1 * (1 - out_o1) * outh2\n",
        "    gradient_w7 = -(targets_o1[i] - out_o1) * out_o1 * (1 - out_o1) * outh1\n",
        "    gradient_w8 = -(targets_o1[i] - out_o1) * out_o1 * (1 - out_o1) * outh2\n",
        "\n",
        "    # Add the gradients to the respective lists\n",
        "    gradients_w5.append(gradient_w5)\n",
        "    gradients_w6.append(gradient_w6)\n",
        "    gradients_w7.append(gradient_w7)\n",
        "    gradients_w8.append(gradient_w8)\n",
        "\n",
        "# Print the gradients for w5, w6, w7, and w8 for all three samples\n",
        "for i in range(3):\n",
        "    print(f'Sample {i+1}:')\n",
        "    print(f'Gradient for w5: {gradients_w5[i]:.4f}')\n",
        "    print(f'Gradient for w6: {gradients_w6[i]:.4f}')\n",
        "    print(f'Gradient for w7: {gradients_w7[i]:.4f}')\n",
        "    print(f'Gradient for w8: {gradients_w8[i]:.4f}')\n"
      ]
    }
  ]
}